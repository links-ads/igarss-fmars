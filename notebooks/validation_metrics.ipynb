{
 "cells": [
  {
   "cell_type": "code",
   "execution_count": 11,
   "metadata": {},
   "outputs": [],
   "source": [
    "import torch\n",
    "import rasterio\n",
    "\n",
    "# Define the directory path where the rasters are located\n",
    "directory = '/nfs/home/innocenti/igarss-fmars/data/ithaca-val/gt_45'\n",
    "# Get a list of all raster files in the directory\n",
    "raster_files = rasterio.os.listdir(directory)\n",
    "# sort the list\n",
    "raster_files.sort()\n",
    "# Create an empty list to store the loaded rasters\n",
    "labels = []\n",
    "# Iterate over each raster file\n",
    "for file in raster_files:\n",
    "    # Open the raster file using rasterio\n",
    "    with rasterio.open(directory + '/' + file) as src:\n",
    "        # Read the raster data\n",
    "        raster_data = src.read(1)  # Change the band number if needed\n",
    "        # shift all labels by 1, set 255 to 1\n",
    "        raster_data = raster_data + 1\n",
    "        raster_data[raster_data == 256] = 0\n",
    "        # Convert the raster data to a torch tensor\n",
    "        labels.append(torch.from_numpy(raster_data))\n",
    "        "
   ]
  },
  {
   "cell_type": "code",
   "execution_count": 12,
   "metadata": {},
   "outputs": [
    {
     "name": "stdout",
     "output_type": "stream",
     "text": [
      "45\n",
      "torch.Size([512, 512])\n",
      "tensor([0, 1, 2, 3], dtype=torch.uint8)\n"
     ]
    }
   ],
   "source": [
    "print(len(labels))\n",
    "print(labels[0].shape)\n",
    "print(labels[0].unique())"
   ]
  },
  {
   "cell_type": "code",
   "execution_count": 13,
   "metadata": {},
   "outputs": [],
   "source": [
    "import torch\n",
    "import rasterio\n",
    "\n",
    "# Define the directory path where the rasters are located\n",
    "directory = '/nfs/home/innocenti/igarss-fmars/output_images/mic_sampler_val_075'\n",
    "# Get a list of all raster files in the directory\n",
    "raster_files = rasterio.os.listdir(directory)\n",
    "# sort the list\n",
    "raster_files.sort()\n",
    "# Create an empty list to store the loaded rasters\n",
    "inferences = []\n",
    "# Iterate over each raster file\n",
    "for file in raster_files:\n",
    "    # Open the raster file using rasterio\n",
    "    with rasterio.open(directory + '/' + file) as src:\n",
    "        # Read the raster data\n",
    "        raster_data = src.read(1)  # Change the band number if needed\n",
    "        \n",
    "        # Convert the raster data to a torch tensor\n",
    "        inferences.append(torch.from_numpy(raster_data))"
   ]
  },
  {
   "cell_type": "code",
   "execution_count": 14,
   "metadata": {},
   "outputs": [
    {
     "name": "stdout",
     "output_type": "stream",
     "text": [
      "45\n",
      "torch.Size([512, 512])\n",
      "tensor([0, 1, 2, 3], dtype=torch.uint8)\n"
     ]
    }
   ],
   "source": [
    "print(len(inferences))\n",
    "print(inferences[0].shape)\n",
    "print(inferences[0].unique())"
   ]
  },
  {
   "cell_type": "code",
   "execution_count": 15,
   "metadata": {},
   "outputs": [
    {
     "name": "stdout",
     "output_type": "stream",
     "text": [
      "Accuracy per class: tensor([0.4835, 0.5895, 0.7198, 0.8187])\n",
      "Accuracy micro: tensor(0.6662)\n",
      "Accuracy macro: tensor(0.6529)\n",
      "Accuracy ignore bg: tensor(0.7328)\n",
      "IoU per class: tensor([0.3000, 0.4648, 0.6266, 0.6385])\n",
      "IoU micro: tensor(0.4995)\n",
      "IoU macro: tensor(0.5075)\n",
      "IoU ignore bg: tensor(0.7016)\n"
     ]
    }
   ],
   "source": [
    "from torchmetrics import Accuracy, JaccardIndex\n",
    "\n",
    "# Convert the labels and inferences to torch tensors\n",
    "labels_tensor = torch.stack(labels)\n",
    "inferences_tensor = torch.stack(inferences)\n",
    "\n",
    "# Create the accuracy metric\n",
    "accuracy_perclass = Accuracy(num_classes=4, task='multiclass', average='none')\n",
    "accuracy_micro = Accuracy(num_classes=4, task='multiclass', average='micro')\n",
    "accuracy_macro = Accuracy(num_classes=4, task='multiclass', average='macro')\n",
    "accuracy_ignorebg = Accuracy(num_classes=4, task='multiclass', average='micro', ignore_index=0)\n",
    "\n",
    "# Compute the accuracy between labels and inferences\n",
    "accuracy_perclass_value = accuracy_perclass(inferences_tensor, labels_tensor)\n",
    "accuracy_micro_value = accuracy_micro(inferences_tensor, labels_tensor)\n",
    "accuracy_macro_value = accuracy_macro(inferences_tensor, labels_tensor)\n",
    "accuracy_ignorebg_value = accuracy_ignorebg(inferences_tensor, labels_tensor)\n",
    "\n",
    "# Create the IoU metric\n",
    "iou_perclass = JaccardIndex(num_classes=4, task='multiclass', average='none')\n",
    "iou_micro = JaccardIndex(num_classes=4, task='multiclass', average='micro')\n",
    "iou_macro = JaccardIndex(num_classes=4, task='multiclass', average='macro') \n",
    "iou_ignorebg = JaccardIndex(num_classes=4, task='multiclass', average='micro', ignore_index=0)\n",
    "\n",
    "# Compute the mIoU between labels and inferences\n",
    "iou_perclass_value = iou_perclass(inferences_tensor, labels_tensor)\n",
    "iou_micro_value = iou_micro(inferences_tensor, labels_tensor)\n",
    "iou_macro_value = iou_macro(inferences_tensor, labels_tensor)\n",
    "iou_ignorebg_value = iou_ignorebg(inferences_tensor, labels_tensor)\n",
    "\n",
    "# Print the accuracy and mIoU values\n",
    "print('Accuracy per class:', accuracy_perclass_value)\n",
    "print('Accuracy micro:', accuracy_micro_value)\n",
    "print('Accuracy macro:', accuracy_macro_value)\n",
    "print('Accuracy ignore bg:', accuracy_ignorebg_value)\n",
    "print('IoU per class:', iou_perclass_value)\n",
    "print('IoU micro:', iou_micro_value)\n",
    "print('IoU macro:', iou_macro_value)\n",
    "print('IoU ignore bg:', iou_ignorebg_value)"
   ]
  },
  {
   "cell_type": "code",
   "execution_count": null,
   "metadata": {},
   "outputs": [],
   "source": []
  },
  {
   "cell_type": "code",
   "execution_count": null,
   "metadata": {},
   "outputs": [],
   "source": []
  }
 ],
 "metadata": {
  "kernelspec": {
   "display_name": ".venv",
   "language": "python",
   "name": "python3"
  },
  "language_info": {
   "codemirror_mode": {
    "name": "ipython",
    "version": 3
   },
   "file_extension": ".py",
   "mimetype": "text/x-python",
   "name": "python",
   "nbconvert_exporter": "python",
   "pygments_lexer": "ipython3",
   "version": "3.8.17"
  }
 },
 "nbformat": 4,
 "nbformat_minor": 2
}
