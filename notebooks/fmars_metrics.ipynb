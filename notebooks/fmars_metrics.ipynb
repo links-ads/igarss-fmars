{
 "cells": [
  {
   "cell_type": "code",
   "execution_count": 6,
   "metadata": {},
   "outputs": [
    {
     "name": "stderr",
     "output_type": "stream",
     "text": [
      "/nfs/home/innocenti/igarss-fmars/.venv2/lib/python3.8/site-packages/rasterio/__init__.py:304: NotGeoreferencedWarning: Dataset has no geotransform, gcps, or rpcs. The identity matrix will be returned.\n",
      "  dataset = DatasetReader(path, driver=driver, sharing=sharing, **kwargs)\n"
     ]
    }
   ],
   "source": [
    "import torch\n",
    "import rasterio\n",
    "import os\n",
    "\n",
    "inferences = []\n",
    "\n",
    "# Define the directory path where the rasters are located\n",
    "directory = '/nfs/home/innocenti/igarss-fmars/output_images/mic_sampler_09'\n",
    "directories = os.listdir(directory)\n",
    "# sort\n",
    "directories.sort()\n",
    "# for each directory in the directory\n",
    "for folder in directories:\n",
    "    folder = os.path.join(directory, folder)\n",
    "    # append 'pre/'\n",
    "    folder = os.path.join(folder, 'pre/')\n",
    "    for mosaic in os.listdir(folder):\n",
    "        mosaic = os.path.join(folder, mosaic)\n",
    "        for tile in os.listdir(mosaic):\n",
    "            tile = os.path.join(mosaic, tile)\n",
    "            # ceck if tile is a tif\n",
    "            if tile.endswith('.tif'):\n",
    "                # Open the raster file\n",
    "                with rasterio.open(tile) as src:\n",
    "                    # Read the raster data\n",
    "                    raster_data = src.read(1)\n",
    "                    # Convert the raster data to a torch tensor\n",
    "                    inferences.append(torch.from_numpy(raster_data))"
   ]
  },
  {
   "cell_type": "code",
   "execution_count": 7,
   "metadata": {},
   "outputs": [
    {
     "name": "stdout",
     "output_type": "stream",
     "text": [
      "19\n",
      "torch.Size([17408, 17408])\n",
      "tensor([0, 1, 2, 3], dtype=torch.uint8)\n"
     ]
    }
   ],
   "source": [
    "print(len(inferences))\n",
    "print(inferences[0].shape)\n",
    "print(inferences[0].unique())"
   ]
  },
  {
   "cell_type": "code",
   "execution_count": 8,
   "metadata": {},
   "outputs": [],
   "source": [
    "labels = []\n",
    "\n",
    "# Define the directory path where the rasters are located\n",
    "directory = '/nfs/home/innocenti/igarss-fmars/data/outputs/04_05/test'\n",
    "directories = os.listdir(directory)\n",
    "# sort\n",
    "directories.sort()\n",
    "# for each directory in the directory\n",
    "for folder in directories:\n",
    "    folder = os.path.join(directory, folder)\n",
    "    # append 'pre/'\n",
    "    folder = os.path.join(folder, 'pre/')\n",
    "    for mosaic in os.listdir(folder):\n",
    "        mosaic = os.path.join(folder, mosaic)\n",
    "        for tile in os.listdir(mosaic):\n",
    "            tile = os.path.join(mosaic, tile)\n",
    "            # ceck if tile is a tif\n",
    "            if tile.endswith('.tif'):\n",
    "                # Open the raster file\n",
    "                with rasterio.open(tile) as src:\n",
    "                    # Read the raster data\n",
    "                    raster_data = src.read(1)\n",
    "                    # shift all labels by 1, set 255 to 1\n",
    "                    raster_data = raster_data + 1\n",
    "                    raster_data[raster_data == 256] = 0\n",
    "                    # Convert the raster data to a torch tensor\n",
    "                    labels.append(torch.from_numpy(raster_data))"
   ]
  },
  {
   "cell_type": "code",
   "execution_count": 9,
   "metadata": {},
   "outputs": [
    {
     "name": "stdout",
     "output_type": "stream",
     "text": [
      "19\n",
      "torch.Size([17408, 17408])\n",
      "tensor([0, 1, 2, 3], dtype=torch.uint8)\n"
     ]
    }
   ],
   "source": [
    "print(len(labels))\n",
    "print(labels[0].shape)\n",
    "print(labels[0].unique())"
   ]
  },
  {
   "cell_type": "code",
   "execution_count": 10,
   "metadata": {},
   "outputs": [
    {
     "name": "stdout",
     "output_type": "stream",
     "text": [
      "Accuracy per class: tensor([0.6286, 0.3713, 0.5654, 0.6672])\n",
      "Accuracy micro: tensor(0.6140)\n",
      "Accuracy macro: tensor(0.5581)\n",
      "Accuracy ignore bg: tensor(0.5391)\n",
      "IoU per class: tensor([0.5798, 0.2158, 0.1068, 0.3132])\n",
      "IoU micro: tensor(0.4430)\n",
      "IoU macro: tensor(0.3039)\n",
      "IoU ignore bg: tensor(0.5244)\n"
     ]
    }
   ],
   "source": [
    "from torchmetrics import Accuracy, JaccardIndex\n",
    "\n",
    "# Convert the labels and inferences to torch tensors\n",
    "labels_tensor = torch.stack(labels)\n",
    "inferences_tensor = torch.stack(inferences)\n",
    "\n",
    "# Create the accuracy metric\n",
    "accuracy_perclass = Accuracy(num_classes=4, task='multiclass', average='none')\n",
    "accuracy_micro = Accuracy(num_classes=4, task='multiclass', average='micro')\n",
    "accuracy_macro = Accuracy(num_classes=4, task='multiclass', average='macro')\n",
    "accuracy_ignorebg = Accuracy(num_classes=4, task='multiclass', average='micro', ignore_index=0)\n",
    "\n",
    "# Compute the accuracy between labels and inferences\n",
    "accuracy_perclass_value = accuracy_perclass(inferences_tensor, labels_tensor)\n",
    "accuracy_micro_value = accuracy_micro(inferences_tensor, labels_tensor)\n",
    "accuracy_macro_value = accuracy_macro(inferences_tensor, labels_tensor)\n",
    "accuracy_ignorebg_value = accuracy_ignorebg(inferences_tensor, labels_tensor)\n",
    "\n",
    "# Create the IoU metric\n",
    "iou_perclass = JaccardIndex(num_classes=4, task='multiclass', average='none')\n",
    "iou_micro = JaccardIndex(num_classes=4, task='multiclass', average='micro')\n",
    "iou_macro = JaccardIndex(num_classes=4, task='multiclass', average='macro') \n",
    "iou_ignorebg = JaccardIndex(num_classes=4, task='multiclass', average='micro', ignore_index=0)\n",
    "\n",
    "# Compute the mIoU between labels and inferences\n",
    "iou_perclass_value = iou_perclass(inferences_tensor, labels_tensor)\n",
    "iou_micro_value = iou_micro(inferences_tensor, labels_tensor)\n",
    "iou_macro_value = iou_macro(inferences_tensor, labels_tensor)\n",
    "iou_ignorebg_value = iou_ignorebg(inferences_tensor, labels_tensor)\n",
    "\n",
    "# Print the accuracy and mIoU values\n",
    "print('Accuracy per class:', accuracy_perclass_value)\n",
    "print('Accuracy micro:', accuracy_micro_value)\n",
    "print('Accuracy macro:', accuracy_macro_value)\n",
    "print('Accuracy ignore bg:', accuracy_ignorebg_value)\n",
    "print('IoU per class:', iou_perclass_value)\n",
    "print('IoU micro:', iou_micro_value)\n",
    "print('IoU macro:', iou_macro_value)\n",
    "print('IoU ignore bg:', iou_ignorebg_value)"
   ]
  }
 ],
 "metadata": {
  "kernelspec": {
   "display_name": ".venv",
   "language": "python",
   "name": "python3"
  },
  "language_info": {
   "codemirror_mode": {
    "name": "ipython",
    "version": 3
   },
   "file_extension": ".py",
   "mimetype": "text/x-python",
   "name": "python",
   "nbconvert_exporter": "python",
   "pygments_lexer": "ipython3",
   "version": "3.8.17"
  }
 },
 "nbformat": 4,
 "nbformat_minor": 2
}
